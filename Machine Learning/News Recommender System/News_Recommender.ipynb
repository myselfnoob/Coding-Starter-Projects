{
 "cells": [
  {
   "cell_type": "markdown",
   "id": "c8941d2a",
   "metadata": {},
   "source": [
    "# Importing Libraries"
   ]
  },
  {
   "cell_type": "code",
   "execution_count": 1,
   "id": "8d267b45",
   "metadata": {},
   "outputs": [
    {
     "name": "stderr",
     "output_type": "stream",
     "text": [
      "[nltk_data] Downloading package stopwords to\n",
      "[nltk_data]     C:\\Users\\venil\\AppData\\Roaming\\nltk_data...\n",
      "[nltk_data]   Package stopwords is already up-to-date!\n",
      "[nltk_data] Downloading package wordnet to\n",
      "[nltk_data]     C:\\Users\\venil\\AppData\\Roaming\\nltk_data...\n",
      "[nltk_data]   Package wordnet is already up-to-date!\n"
     ]
    }
   ],
   "source": [
    "import numpy as np\n",
    "import pandas as pd\n",
    "import math\n",
    "import time\n",
    "from nltk.corpus import stopwords\n",
    "import nltk\n",
    "nltk.download('stopwords')\n",
    "nltk.download('wordnet')\n",
    "from nltk.tokenize import word_tokenize\n",
    "from nltk.stem import WordNetLemmatizer\n",
    "from sklearn.feature_extraction.text import TfidfVectorizer\n",
    "from sklearn.metrics import pairwise_distances"
   ]
  },
  {
   "cell_type": "markdown",
   "id": "6acde3c5",
   "metadata": {},
   "source": [
    "# Loading Dataset"
   ]
  },
  {
   "cell_type": "code",
   "execution_count": 2,
   "id": "cc408ef5",
   "metadata": {},
   "outputs": [],
   "source": [
    "news = pd.read_json(\"latest_dataset.json\", lines = True)"
   ]
  },
  {
   "cell_type": "code",
   "execution_count": 3,
   "id": "96393627",
   "metadata": {},
   "outputs": [
    {
     "data": {
      "text/plain": [
       "(5518, 6)"
      ]
     },
     "execution_count": 3,
     "metadata": {},
     "output_type": "execute_result"
    }
   ],
   "source": [
    "news.shape"
   ]
  },
  {
   "cell_type": "code",
   "execution_count": 4,
   "id": "a8855e4d",
   "metadata": {},
   "outputs": [],
   "source": [
    "news.index = range(news.shape[0])"
   ]
  },
  {
   "cell_type": "code",
   "execution_count": 5,
   "id": "1b3ad8db",
   "metadata": {},
   "outputs": [
    {
     "data": {
      "text/plain": [
       "5518"
      ]
     },
     "execution_count": 5,
     "metadata": {},
     "output_type": "execute_result"
    }
   ],
   "source": [
    "news.index.shape[0]"
   ]
  },
  {
   "cell_type": "code",
   "execution_count": 6,
   "id": "75ea8a6f",
   "metadata": {
    "scrolled": true
   },
   "outputs": [
    {
     "name": "stdout",
     "output_type": "stream",
     "text": [
      "<class 'pandas.core.frame.DataFrame'>\n",
      "RangeIndex: 5518 entries, 0 to 5517\n",
      "Data columns (total 6 columns):\n",
      " #   Column             Non-Null Count  Dtype         \n",
      "---  ------             --------------  -----         \n",
      " 0   link               5518 non-null   object        \n",
      " 1   headline           5518 non-null   object        \n",
      " 2   category           5518 non-null   object        \n",
      " 3   short_description  5518 non-null   object        \n",
      " 4   authors            5518 non-null   object        \n",
      " 5   date               5518 non-null   datetime64[ns]\n",
      "dtypes: datetime64[ns](1), object(5)\n",
      "memory usage: 258.8+ KB\n"
     ]
    }
   ],
   "source": [
    "news.info()"
   ]
  },
  {
   "cell_type": "markdown",
   "id": "66639d10",
   "metadata": {},
   "source": [
    "# Data Preprocessing"
   ]
  },
  {
   "cell_type": "code",
   "execution_count": 7,
   "id": "a28776f6",
   "metadata": {},
   "outputs": [],
   "source": [
    "news_temp = news.copy()"
   ]
  },
  {
   "cell_type": "markdown",
   "id": "9aa17c61",
   "metadata": {},
   "source": [
    "### Removing Stopwords"
   ]
  },
  {
   "cell_type": "code",
   "execution_count": 8,
   "id": "a7811794",
   "metadata": {},
   "outputs": [],
   "source": [
    "stop_words = set(stopwords.words('english'))"
   ]
  },
  {
   "cell_type": "code",
   "execution_count": 9,
   "id": "f27badba",
   "metadata": {},
   "outputs": [],
   "source": [
    "for i in range(len(news_temp[\"headline\"])):\n",
    "    string = \"\"\n",
    "    for word in news_temp[\"headline\"][i].split():\n",
    "        word = (\"\".join(e for e in word if e.isalnum()))\n",
    "        word = word.lower()\n",
    "        if not word in stop_words:\n",
    "          string += word + \" \"  \n",
    "    news_temp.at[i,\"headline\"] = string.strip()"
   ]
  },
  {
   "cell_type": "markdown",
   "id": "2c5fd465",
   "metadata": {},
   "source": [
    "### Lemmatization"
   ]
  },
  {
   "cell_type": "code",
   "execution_count": 10,
   "id": "f09a6142",
   "metadata": {},
   "outputs": [],
   "source": [
    "lemmatizer = WordNetLemmatizer()"
   ]
  },
  {
   "cell_type": "code",
   "execution_count": 11,
   "id": "1d5cb40b",
   "metadata": {},
   "outputs": [],
   "source": [
    "for i in range(len(news_temp[\"headline\"])):\n",
    "    string = \"\"\n",
    "    for w in word_tokenize(news_temp[\"headline\"][i]):\n",
    "        string += lemmatizer.lemmatize(w,pos = \"v\") + \" \"\n",
    "    news_temp.at[i, \"headline\"] = string.strip()"
   ]
  },
  {
   "cell_type": "markdown",
   "id": "983db13b",
   "metadata": {},
   "source": [
    "## TF-IDF Method for News Recommender System"
   ]
  },
  {
   "cell_type": "code",
   "execution_count": 12,
   "id": "32cc386b",
   "metadata": {},
   "outputs": [],
   "source": [
    "tfidf_headline_vectorizer = TfidfVectorizer(min_df = 0.0)\n",
    "tfidf_headline_features = tfidf_headline_vectorizer.fit_transform(news_temp['headline'])"
   ]
  },
  {
   "cell_type": "code",
   "execution_count": 13,
   "id": "e081e82f",
   "metadata": {},
   "outputs": [
    {
     "name": "stdout",
     "output_type": "stream",
     "text": [
      "headline :  Trump Deploys More Troops To Middle East After U.S. Embassy Attack\n"
     ]
    },
    {
     "data": {
      "text/html": [
       "<div>\n",
       "<style scoped>\n",
       "    .dataframe tbody tr th:only-of-type {\n",
       "        vertical-align: middle;\n",
       "    }\n",
       "\n",
       "    .dataframe tbody tr th {\n",
       "        vertical-align: top;\n",
       "    }\n",
       "\n",
       "    .dataframe thead th {\n",
       "        text-align: right;\n",
       "    }\n",
       "</style>\n",
       "<table border=\"1\" class=\"dataframe\">\n",
       "  <thead>\n",
       "    <tr style=\"text-align: right;\">\n",
       "      <th></th>\n",
       "      <th>publish_date</th>\n",
       "      <th>headline</th>\n",
       "      <th>link</th>\n",
       "    </tr>\n",
       "  </thead>\n",
       "  <tbody>\n",
       "    <tr>\n",
       "      <th>1</th>\n",
       "      <td>2020-01-01</td>\n",
       "      <td>U.S. Troops Fire Tear Gas At Protesters Outsid...</td>\n",
       "      <td>https://www.huffpost.com/entry/baghdad-embassy...</td>\n",
       "    </tr>\n",
       "    <tr>\n",
       "      <th>2</th>\n",
       "      <td>2021-12-14</td>\n",
       "      <td>Meadows’ ‘Protect Pro Trump People’ Email May ...</td>\n",
       "      <td>https://www.huffpost.com/entry/meadows-nationa...</td>\n",
       "    </tr>\n",
       "    <tr>\n",
       "      <th>3</th>\n",
       "      <td>2020-01-04</td>\n",
       "      <td>Rockets Fall Near U.S. Embassy In Baghdad</td>\n",
       "      <td>https://www.huffpost.com/entry/rockets-green-z...</td>\n",
       "    </tr>\n",
       "    <tr>\n",
       "      <th>4</th>\n",
       "      <td>2020-11-13</td>\n",
       "      <td>Trevor Noah Hits Donald Trump With A Taunting ...</td>\n",
       "      <td>https://www.huffpost.com/entry/trevor-noah-don...</td>\n",
       "    </tr>\n",
       "    <tr>\n",
       "      <th>5</th>\n",
       "      <td>2020-01-17</td>\n",
       "      <td>11 American Troops Injured In Iran Attack On I...</td>\n",
       "      <td>https://www.huffpost.com/entry/eleven-american...</td>\n",
       "    </tr>\n",
       "    <tr>\n",
       "      <th>6</th>\n",
       "      <td>2022-04-30</td>\n",
       "      <td>Ukraine Fights To Hold Off Russian Advances In...</td>\n",
       "      <td>https://www.huffpost.com/entry/russia-offensiv...</td>\n",
       "    </tr>\n",
       "    <tr>\n",
       "      <th>7</th>\n",
       "      <td>2022-02-22</td>\n",
       "      <td>U.S. Relocates Ukraine Embassy Staff To Poland...</td>\n",
       "      <td>https://www.huffpost.com/entry/ukraine-embassy...</td>\n",
       "    </tr>\n",
       "    <tr>\n",
       "      <th>8</th>\n",
       "      <td>2020-01-05</td>\n",
       "      <td>Iraqi Parliament Votes To Remove U.S. Troops</td>\n",
       "      <td>https://www.huffpost.com/entry/iraqi-parliamen...</td>\n",
       "    </tr>\n",
       "    <tr>\n",
       "      <th>9</th>\n",
       "      <td>2020-01-26</td>\n",
       "      <td>Multiple Rockets Crash Near U.S. Embassy In Ba...</td>\n",
       "      <td>https://www.huffpost.com/entry/rockets-us-emba...</td>\n",
       "    </tr>\n",
       "    <tr>\n",
       "      <th>10</th>\n",
       "      <td>2022-02-17</td>\n",
       "      <td>National Guard Deploys For New Emergency: Teac...</td>\n",
       "      <td>https://www.huffpost.com/entry/bc-us-virus-out...</td>\n",
       "    </tr>\n",
       "  </tbody>\n",
       "</table>\n",
       "</div>"
      ],
      "text/plain": [
       "   publish_date                                           headline  \\\n",
       "1    2020-01-01  U.S. Troops Fire Tear Gas At Protesters Outsid...   \n",
       "2    2021-12-14  Meadows’ ‘Protect Pro Trump People’ Email May ...   \n",
       "3    2020-01-04          Rockets Fall Near U.S. Embassy In Baghdad   \n",
       "4    2020-11-13  Trevor Noah Hits Donald Trump With A Taunting ...   \n",
       "5    2020-01-17  11 American Troops Injured In Iran Attack On I...   \n",
       "6    2022-04-30  Ukraine Fights To Hold Off Russian Advances In...   \n",
       "7    2022-02-22  U.S. Relocates Ukraine Embassy Staff To Poland...   \n",
       "8    2020-01-05       Iraqi Parliament Votes To Remove U.S. Troops   \n",
       "9    2020-01-26  Multiple Rockets Crash Near U.S. Embassy In Ba...   \n",
       "10   2022-02-17  National Guard Deploys For New Emergency: Teac...   \n",
       "\n",
       "                                                 link  \n",
       "1   https://www.huffpost.com/entry/baghdad-embassy...  \n",
       "2   https://www.huffpost.com/entry/meadows-nationa...  \n",
       "3   https://www.huffpost.com/entry/rockets-green-z...  \n",
       "4   https://www.huffpost.com/entry/trevor-noah-don...  \n",
       "5   https://www.huffpost.com/entry/eleven-american...  \n",
       "6   https://www.huffpost.com/entry/russia-offensiv...  \n",
       "7   https://www.huffpost.com/entry/ukraine-embassy...  \n",
       "8   https://www.huffpost.com/entry/iraqi-parliamen...  \n",
       "9   https://www.huffpost.com/entry/rockets-us-emba...  \n",
       "10  https://www.huffpost.com/entry/bc-us-virus-out...  "
      ]
     },
     "execution_count": 13,
     "metadata": {},
     "output_type": "execute_result"
    }
   ],
   "source": [
    "def tfidf_based_model(row_index, num_similar_items):\n",
    "    couple_dist = pairwise_distances(tfidf_headline_features,tfidf_headline_features[row_index])\n",
    "    indices = np.argsort(couple_dist.ravel())[0:num_similar_items]\n",
    "    df = pd.DataFrame({'publish_date': news['date'][indices].values,\n",
    "               'headline':news['headline'][indices].values, 'link':news['link'][indices].values})\n",
    "    print('headline : ',news['headline'][indices[0]])\n",
    "    \n",
    "    \n",
    "    return df.iloc[1:,]\n",
    "tfidf_based_model(5513, 11)"
   ]
  },
  {
   "cell_type": "code",
   "execution_count": null,
   "id": "25bfd91a",
   "metadata": {},
   "outputs": [],
   "source": []
  }
 ],
 "metadata": {
  "kernelspec": {
   "display_name": "Python 3 (ipykernel)",
   "language": "python",
   "name": "python3"
  },
  "language_info": {
   "codemirror_mode": {
    "name": "ipython",
    "version": 3
   },
   "file_extension": ".py",
   "mimetype": "text/x-python",
   "name": "python",
   "nbconvert_exporter": "python",
   "pygments_lexer": "ipython3",
   "version": "3.11.4"
  }
 },
 "nbformat": 4,
 "nbformat_minor": 5
}
